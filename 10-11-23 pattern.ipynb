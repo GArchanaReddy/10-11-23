{
 "cells": [
  {
   "cell_type": "markdown",
   "id": "b7f0086e",
   "metadata": {},
   "source": [
    "# Patterns : \n",
    "   "
   ]
  },
  {
   "cell_type": "code",
   "execution_count": 11,
   "id": "aee4508a",
   "metadata": {},
   "outputs": [],
   "source": [
    "def foo_pattern(x,y):\n",
    "    for i in range(1,6):\n",
    "        for j in range(i):\n",
    "            print('$',end = ' ')\n",
    "        print()\n",
    "        "
   ]
  },
  {
   "cell_type": "code",
   "execution_count": 12,
   "id": "b0bfb822",
   "metadata": {},
   "outputs": [
    {
     "name": "stdout",
     "output_type": "stream",
     "text": [
      "$ \n",
      "$ $ \n",
      "$ $ $ \n",
      "$ $ $ $ \n",
      "$ $ $ $ $ \n"
     ]
    }
   ],
   "source": [
    "foo_pattern(6,'$')"
   ]
  },
  {
   "cell_type": "code",
   "execution_count": 13,
   "id": "065a1d3b",
   "metadata": {},
   "outputs": [],
   "source": [
    "def foo_pattern(x,y):\n",
    "    for i in range(5,0,-1):\n",
    "        for j in range(i):\n",
    "            print('$',end = ' ')\n",
    "        print()    \n",
    "         \n",
    "        "
   ]
  },
  {
   "cell_type": "code",
   "execution_count": 14,
   "id": "6f6391a7",
   "metadata": {},
   "outputs": [
    {
     "name": "stdout",
     "output_type": "stream",
     "text": [
      "$ $ $ $ $ \n",
      "$ $ $ $ \n",
      "$ $ $ \n",
      "$ $ \n",
      "$ \n"
     ]
    }
   ],
   "source": [
    "foo_pattern(6,'$')"
   ]
  },
  {
   "cell_type": "code",
   "execution_count": 15,
   "id": "f0bb6e71",
   "metadata": {},
   "outputs": [],
   "source": [
    "def foo_pattern(x):\n",
    "    for i in range(1,x+1):\n",
    "        for j in range(i):\n",
    "            print('$',end = ' ')\n",
    "        print()    \n",
    "    "
   ]
  },
  {
   "cell_type": "code",
   "execution_count": 17,
   "id": "1ed12303",
   "metadata": {},
   "outputs": [
    {
     "name": "stdout",
     "output_type": "stream",
     "text": [
      "$ \n",
      "$ $ \n",
      "$ $ $ \n",
      "$ $ $ $ \n",
      "$ $ $ $ $ \n"
     ]
    }
   ],
   "source": [
    "foo_pattern(5)"
   ]
  },
  {
   "cell_type": "code",
   "execution_count": 18,
   "id": "415b2f8b",
   "metadata": {},
   "outputs": [],
   "source": [
    "def foo_pattern(x):\n",
    "    for i in range(x+1,0,-1):\n",
    "        for j in range(i):\n",
    "            print(j,end = ' ')\n",
    "        print()    "
   ]
  },
  {
   "cell_type": "code",
   "execution_count": 19,
   "id": "af6da392",
   "metadata": {},
   "outputs": [
    {
     "name": "stdout",
     "output_type": "stream",
     "text": [
      "0 1 2 3 4 5 \n",
      "0 1 2 3 4 \n",
      "0 1 2 3 \n",
      "0 1 2 \n",
      "0 1 \n",
      "0 \n"
     ]
    }
   ],
   "source": [
    "foo_pattern(5)"
   ]
  },
  {
   "cell_type": "code",
   "execution_count": 20,
   "id": "359e5e7b",
   "metadata": {},
   "outputs": [],
   "source": [
    "def foo_pattern(x):\n",
    "    for i in range(1,x+1,2):\n",
    "        for j in range(i):\n",
    "            print('$',end = ' ')\n",
    "        print()    "
   ]
  },
  {
   "cell_type": "code",
   "execution_count": 21,
   "id": "1b21231e",
   "metadata": {},
   "outputs": [
    {
     "name": "stdout",
     "output_type": "stream",
     "text": [
      "$ \n",
      "$ $ $ \n",
      "$ $ $ $ $ \n"
     ]
    }
   ],
   "source": [
    "foo_pattern(5)"
   ]
  },
  {
   "cell_type": "code",
   "execution_count": 26,
   "id": "c1ae970a",
   "metadata": {},
   "outputs": [],
   "source": [
    "def foo_pattern(x):\n",
    "    for i in range(x):\n",
    "        for j in range(i,x):\n",
    "            print(' ',end = ' ')\n",
    "        for j in range(x+1):\n",
    "            print('*',end = ' ')\n",
    "            print()\n",
    "            "
   ]
  },
  {
   "cell_type": "code",
   "execution_count": 28,
   "id": "efdb42f2",
   "metadata": {},
   "outputs": [
    {
     "name": "stdout",
     "output_type": "stream",
     "text": [
      "          * \n",
      "* \n",
      "* \n",
      "* \n",
      "* \n",
      "* \n",
      "        * \n",
      "* \n",
      "* \n",
      "* \n",
      "* \n",
      "* \n",
      "      * \n",
      "* \n",
      "* \n",
      "* \n",
      "* \n",
      "* \n",
      "    * \n",
      "* \n",
      "* \n",
      "* \n",
      "* \n",
      "* \n",
      "  * \n",
      "* \n",
      "* \n",
      "* \n",
      "* \n",
      "* \n"
     ]
    }
   ],
   "source": [
    "foo_pattern(5)"
   ]
  },
  {
   "cell_type": "code",
   "execution_count": 29,
   "id": "dac8fc4e",
   "metadata": {},
   "outputs": [],
   "source": [
    "def foo_pattern(x):\n",
    "    for i in range(x):\n",
    "        for j in range(i,x):\n",
    "            print(' ',end=' ')\n",
    "        for j in range(x+1):\n",
    "            print('*',end=' ')\n",
    "        print()"
   ]
  },
  {
   "cell_type": "code",
   "execution_count": 30,
   "id": "bb74626b",
   "metadata": {},
   "outputs": [
    {
     "name": "stdout",
     "output_type": "stream",
     "text": [
      "          * * * * * * \n",
      "        * * * * * * \n",
      "      * * * * * * \n",
      "    * * * * * * \n",
      "  * * * * * * \n"
     ]
    }
   ],
   "source": [
    "foo_pattern(5)"
   ]
  },
  {
   "cell_type": "code",
   "execution_count": 39,
   "id": "7e417797",
   "metadata": {},
   "outputs": [
    {
     "name": "stdout",
     "output_type": "stream",
     "text": [
      "        * \n",
      "      * * * \n",
      "    * * * * * \n",
      "  * * * * * * * \n"
     ]
    }
   ],
   "source": [
    "def func_pattern3(x):\n",
    "    for i in range(x):\n",
    "        for j in range(i,x):\n",
    "            print(' ',end=' ')\n",
    "        for j in range(i):\n",
    "                print('*',end=' ')\n",
    "        for j in range(i+1):\n",
    "            print('*',end=' ')\n",
    "        print()\n",
    "func_pattern3(4)"
   ]
  },
  {
   "cell_type": "code",
   "execution_count": 40,
   "id": "a3894337",
   "metadata": {},
   "outputs": [
    {
     "name": "stdout",
     "output_type": "stream",
     "text": [
      "* * * * * * * * * \n",
      "  * * * * * * * \n",
      "    * * * * * \n",
      "      * * * \n",
      "        * \n"
     ]
    }
   ],
   "source": [
    "def func_pattern2(x):\n",
    "    for i in range(x,-1,-1):\n",
    "        for j in range(i,x):\n",
    "            print(' ',end=' ')\n",
    "        for j in range(i):\n",
    "            print('*',end=' ')\n",
    "        for j in range(i+1):\n",
    "            print('*',end=' ')\n",
    "        print()\n",
    "func_pattern2(4)"
   ]
  },
  {
   "cell_type": "code",
   "execution_count": 41,
   "id": "79d6dfa7",
   "metadata": {},
   "outputs": [
    {
     "name": "stdout",
     "output_type": "stream",
     "text": [
      "      * \n",
      "    * * * \n",
      "  * * * * * \n",
      "* * * * * * * \n",
      "  * * * * * \n",
      "    * * * \n",
      "      * \n"
     ]
    }
   ],
   "source": [
    "def func_pattern1(x):\n",
    "    for i in range(x):\n",
    "        for j in range(i,x):\n",
    "            print(' ',end=' ')\n",
    "        for j in range(i):\n",
    "                print('*',end=' ')\n",
    "        for j in range(i+1):\n",
    "            print('*',end=' ')\n",
    "        print()\n",
    "    for i in range(x,-1,-1):\n",
    "        for j in range(i,x):\n",
    "            print(' ',end=' ')\n",
    "        for j in range(i):\n",
    "            print('*',end=' ')\n",
    "        for j in range(i+1):\n",
    "            print('*',end=' ')\n",
    "        print()\n",
    "func_pattern1(3)"
   ]
  },
  {
   "cell_type": "code",
   "execution_count": 43,
   "id": "d614cac5",
   "metadata": {},
   "outputs": [
    {
     "name": "stdout",
     "output_type": "stream",
     "text": [
      "  * * * * * * * * * \n",
      "    * * * * * * * \n",
      "      * * * * * \n",
      "        * * * \n",
      "          * \n",
      "          * \n",
      "        * * * \n",
      "      * * * * * \n",
      "    * * * * * * * \n",
      "  * * * * * * * * * \n"
     ]
    }
   ],
   "source": [
    "def func_pattern(x):\n",
    "    for i in range(x-1,-1,-1):\n",
    "        for j in range(i,x):\n",
    "            print(' ',end=' ')\n",
    "        for j in range(i):\n",
    "            print('*',end=' ')\n",
    "        for j in range(i+1):\n",
    "            print('*',end=' ')\n",
    "        print()\n",
    "    for i in range(x):\n",
    "        for j in range(i,x):\n",
    "            print(' ',end=' ')\n",
    "        for j in range(i):\n",
    "                print('*',end=' ')\n",
    "        for j in range(i+1):\n",
    "            print('*',end=' ')\n",
    "        print()        \n",
    "func_pattern(5)"
   ]
  },
  {
   "cell_type": "code",
   "execution_count": 44,
   "id": "3301a546",
   "metadata": {},
   "outputs": [
    {
     "name": "stdout",
     "output_type": "stream",
     "text": [
      "0 1 2 3 4 \n",
      "0 1 2 3 \n",
      "0 1 2 \n",
      "0 1 \n",
      "0 \n"
     ]
    }
   ],
   "source": [
    "def foo_pattern(x):\n",
    "    for i in range(x+1,0,-1):\n",
    "        for j in range(i):\n",
    "            print(j,end= ' ')\n",
    "        print()\n",
    "foo_pattern(4)"
   ]
  },
  {
   "cell_type": "code",
   "execution_count": 46,
   "id": "51ddec40",
   "metadata": {},
   "outputs": [
    {
     "name": "stdout",
     "output_type": "stream",
     "text": [
      "0 1 2 3 4 5 \n",
      "  0 1 2 3 4 \n",
      "    0 1 2 3 \n",
      "      0 1 2 \n",
      "        0 1 \n",
      "          0 \n"
     ]
    }
   ],
   "source": [
    "def foo_pattern(x):\n",
    "    for i in range(x,-1,-1):\n",
    "        for j in range(i,x):\n",
    "            print(' ',end=' ')\n",
    "        for j in range(i+1):\n",
    "            print(j,end=' ')\n",
    "        print()\n",
    "foo_pattern(5)"
   ]
  },
  {
   "cell_type": "code",
   "execution_count": 47,
   "id": "851d5939",
   "metadata": {},
   "outputs": [
    {
     "name": "stdout",
     "output_type": "stream",
     "text": [
      "  0 1 2 3 0 1 2 3 4 \n",
      "    0 1 2 0 1 2 3 \n",
      "      0 1 0 1 2 \n",
      "        0 0 1 \n",
      "          0 \n",
      "          0 \n",
      "        0 0 1 \n",
      "      0 1 0 1 2 \n",
      "    0 1 2 0 1 2 3 \n",
      "  0 1 2 3 0 1 2 3 4 \n"
     ]
    }
   ],
   "source": [
    "def func_pattern(x):\n",
    "    for i in range(x-1,-1,-1):\n",
    "        for j in range(i,x):\n",
    "            print(' ',end=' ')\n",
    "        for j in range(i):\n",
    "            print(j,end=' ')\n",
    "        for j in range(i+1):\n",
    "            print(j,end=' ')\n",
    "        print()\n",
    "    for i in range(x):\n",
    "        for j in range(i,x):\n",
    "            print(' ',end=' ')\n",
    "        for j in range(i):\n",
    "                print(j,end=' ')\n",
    "        for j in range(i+1):\n",
    "            print(j,end=' ')\n",
    "        print()        \n",
    "func_pattern(5)"
   ]
  },
  {
   "cell_type": "code",
   "execution_count": 48,
   "id": "ec952ca0",
   "metadata": {},
   "outputs": [
    {
     "name": "stdout",
     "output_type": "stream",
     "text": [
      "* \n",
      "* * \n",
      "* * * \n",
      "* * * * \n",
      "* * * * * \n",
      "* * * * * \n",
      "* * * * \n",
      "* * * \n",
      "* * \n",
      "* \n"
     ]
    }
   ],
   "source": [
    "x=5\n",
    "for i in range(1,x+1):\n",
    "    for j in range(i):\n",
    "        print('*',end=' ')\n",
    "    print()\n",
    "for i in range(x):\n",
    "    for j in range(i,x):\n",
    "        print('*',end=' ')\n",
    "    print()"
   ]
  },
  {
   "cell_type": "code",
   "execution_count": 50,
   "id": "07c432dd",
   "metadata": {},
   "outputs": [
    {
     "name": "stdout",
     "output_type": "stream",
     "text": [
      "  0 1 2 0 1 2 3 \n",
      "    0 1 0 1 2 \n",
      "      0 0 1 \n",
      "        0 \n",
      "        0 \n",
      "      0 0 1 \n",
      "    0 1 0 1 2 \n",
      "  0 1 2 0 1 2 3 \n"
     ]
    }
   ],
   "source": [
    "def func_pattern3(x):\n",
    "    for i in range(x):\n",
    "        for j in range(i,x):\n",
    "            print(' ',end=' ')\n",
    "        for j in range(i):\n",
    "                print('*',end=' ')\n",
    "        for j in range(i+1):\n",
    "            print('*',end=' ')\n",
    "        print()\n",
    "func_pattern(4)"
   ]
  },
  {
   "cell_type": "code",
   "execution_count": null,
   "id": "125a5043",
   "metadata": {},
   "outputs": [],
   "source": []
  }
 ],
 "metadata": {
  "kernelspec": {
   "display_name": "Python 3 (ipykernel)",
   "language": "python",
   "name": "python3"
  },
  "language_info": {
   "codemirror_mode": {
    "name": "ipython",
    "version": 3
   },
   "file_extension": ".py",
   "mimetype": "text/x-python",
   "name": "python",
   "nbconvert_exporter": "python",
   "pygments_lexer": "ipython3",
   "version": "3.11.5"
  }
 },
 "nbformat": 4,
 "nbformat_minor": 5
}
